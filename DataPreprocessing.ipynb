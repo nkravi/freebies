{
 "cells": [
  {
   "cell_type": "markdown",
   "metadata": {},
   "source": [
    "## Data Pre-processing"
   ]
  },
  {
   "cell_type": "markdown",
   "metadata": {},
   "source": [
    "> In this notebook we have pre-process data we have collected in Data collection. \n",
    "> The result is written to file for data Visualization"
   ]
  },
  {
   "cell_type": "markdown",
   "metadata": {},
   "source": [
    "### import libraries"
   ]
  },
  {
   "cell_type": "code",
   "execution_count": 68,
   "metadata": {
    "collapsed": true
   },
   "outputs": [],
   "source": [
    "from pymongo import MongoClient\n",
    "import re\n",
    "import string\n",
    "import dateutil.parser"
   ]
  },
  {
   "cell_type": "markdown",
   "metadata": {},
   "source": [
    "### Connect to DB"
   ]
  },
  {
   "cell_type": "code",
   "execution_count": 2,
   "metadata": {
    "collapsed": true
   },
   "outputs": [],
   "source": [
    "client = MongoClient()\n",
    "db = client['craigslist']\n",
    "freebies_coll = db['freebies']"
   ]
  },
  {
   "cell_type": "markdown",
   "metadata": {},
   "source": [
    "### Process Document from DB"
   ]
  },
  {
   "cell_type": "code",
   "execution_count": 55,
   "metadata": {
    "collapsed": true
   },
   "outputs": [],
   "source": [
    "def remove_new_line(_str):\n",
    "    return _str.replace('\\n', \" \") "
   ]
  },
  {
   "cell_type": "code",
   "execution_count": 56,
   "metadata": {
    "collapsed": true
   },
   "outputs": [],
   "source": [
    "def replace_multiple_space(_str):\n",
    "    return re.sub(' +',' ',_str)"
   ]
  },
  {
   "cell_type": "code",
   "execution_count": 57,
   "metadata": {
    "collapsed": true
   },
   "outputs": [],
   "source": [
    "def remove_html_tags(_str):\n",
    "    return re.sub('<[^>]*>', '', _str)"
   ]
  },
  {
   "cell_type": "code",
   "execution_count": 66,
   "metadata": {
    "collapsed": true
   },
   "outputs": [],
   "source": [
    "def remove_punctuation(_str):\n",
    "    exclude = set(string.punctuation)\n",
    "    return ''.join(ch for ch in _str if ch not in exclude)\n",
    "    #return _str.translate(None, string.punctuation)"
   ]
  },
  {
   "cell_type": "code",
   "execution_count": 64,
   "metadata": {
    "collapsed": true
   },
   "outputs": [],
   "source": [
    "def process_text(_str):\n",
    "    new_str = _str.lower()\n",
    "    new_str = remove_new_line(new_str)\n",
    "    new_str = replace_multiple_space(new_str)\n",
    "    new_str = remove_html_tags(new_str)\n",
    "    new_str = remove_punctuation(new_str)\n",
    "    return new_str"
   ]
  },
  {
   "cell_type": "code",
   "execution_count": 74,
   "metadata": {
    "collapsed": true
   },
   "outputs": [],
   "source": [
    "def process_date(_str):\n",
    "    return dateutil.parser.parse(_str).strftime(\"%Y-%m-%d %H:%M:%S\")"
   ]
  },
  {
   "cell_type": "code",
   "execution_count": 81,
   "metadata": {
    "collapsed": false
   },
   "outputs": [],
   "source": [
    "def process_doc(doc):\n",
    "    new_doc = {}\n",
    "    new_doc['id'] = str(doc['_id'])\n",
    "    new_doc['title'] = process_text(doc['title'])\n",
    "    new_doc['desc'] =  process_text(doc['desc'])\n",
    "    new_doc['posteddate'] = process_date(doc['posteddate'])\n",
    "    if 'location' in doc:\n",
    "        new_doc['latitude'] = str(doc['location']['latitude'])\n",
    "        new_doc['longitude'] = str(doc['location']['longitude'])\n",
    "        new_doc['accuracy'] = str(doc['location']['accuracy'])\n",
    "    return new_doc"
   ]
  },
  {
   "cell_type": "code",
   "execution_count": 98,
   "metadata": {
    "collapsed": true
   },
   "outputs": [],
   "source": [
    "def format_string(doc):\n",
    "    s = '%s|%s|%s|%s|'%(doc['id'],doc['title'],doc['desc'],doc['posteddate'])\n",
    "    if 'latitude' in doc:\n",
    "        l = '%s|%s|%s'%(doc['latitude'],doc['longitude'],doc['accuracy'])\n",
    "    else:\n",
    "        l = '||'\n",
    "    return s+l"
   ]
  },
  {
   "cell_type": "markdown",
   "metadata": {},
   "source": [
    "### process document"
   ]
  },
  {
   "cell_type": "code",
   "execution_count": 101,
   "metadata": {
    "collapsed": false
   },
   "outputs": [],
   "source": [
    "lines = []\n",
    "cursor = freebies_coll.find()\n",
    "for doc in cursor: \n",
    "    lines.append(format_string(process_doc(doc)))"
   ]
  },
  {
   "cell_type": "markdown",
   "metadata": {},
   "source": [
    "### write to file"
   ]
  },
  {
   "cell_type": "code",
   "execution_count": 110,
   "metadata": {
    "collapsed": false
   },
   "outputs": [],
   "source": [
    "with open('dat.csv','w') as f:\n",
    "    for line in lines:\n",
    "        f.write(line.encode('ascii', 'ignore')+'\\n')"
   ]
  }
 ],
 "metadata": {
  "kernelspec": {
   "display_name": "Python 2",
   "language": "python",
   "name": "python2"
  },
  "language_info": {
   "codemirror_mode": {
    "name": "ipython",
    "version": 2
   },
   "file_extension": ".py",
   "mimetype": "text/x-python",
   "name": "python",
   "nbconvert_exporter": "python",
   "pygments_lexer": "ipython2",
   "version": "2.7.10"
  }
 },
 "nbformat": 4,
 "nbformat_minor": 0
}
